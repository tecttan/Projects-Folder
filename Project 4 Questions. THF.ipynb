{
 "cells": [
  {
   "cell_type": "markdown",
   "metadata": {},
   "source": [
    "## QUESTION 1: Factors that impact salary\n",
    "\n",
    "To predict salary you will be building either a classification or regression model, using features like the location, title, and summary of the job. If framing this as a regression problem, you will be estimating the listed salary amounts. You may instead choose to frame this as a classification problem, in which case you will create labels from these salaries (high vs. low salary, for example) according to thresholds (such as median salary).\n",
    "\n",
    "You have learned a variety of new skills and models that may be useful for this problem:\n",
    "- NLP\n",
    "- Unsupervised learning and dimensionality reduction techniques (PCA, clustering)\n",
    "- Ensemble methods and decision tree models\n",
    "- SVM models\n",
    "\n",
    "Whatever you decide to use, the most important thing is to justify your choices and interpret your results. *Communication of your process is key.* Note that most listings **DO NOT** come with salary information. You'll need to able to extrapolate or predict the expected salaries for these listings."
   ]
  },
  {
   "cell_type": "markdown",
   "metadata": {},
   "source": [
    "### DATA CLEANING"
   ]
  },
  {
   "cell_type": "code",
   "execution_count": 1,
   "metadata": {},
   "outputs": [],
   "source": [
    "import pandas as pd\n",
    "import numpy as np"
   ]
  },
  {
   "cell_type": "code",
   "execution_count": 2,
   "metadata": {},
   "outputs": [],
   "source": [
    "careers=pd.read_csv('jobdata.csv')"
   ]
  },
  {
   "cell_type": "code",
   "execution_count": 3,
   "metadata": {},
   "outputs": [],
   "source": [
    "careers.drop(columns='Unnamed: 0',inplace=True)"
   ]
  },
  {
   "cell_type": "code",
   "execution_count": 4,
   "metadata": {},
   "outputs": [
    {
     "data": {
      "text/plain": [
       "salary             197\n",
       "salarytype         197\n",
       "joblist              2\n",
       "commitment           2\n",
       "location           403\n",
       "seniority           29\n",
       "company              2\n",
       "requirements        81\n",
       "job_description      2\n",
       "dtype: int64"
      ]
     },
     "execution_count": 4,
     "metadata": {},
     "output_type": "execute_result"
    }
   ],
   "source": [
    "careers.isnull().sum()"
   ]
  },
  {
   "cell_type": "code",
   "execution_count": 5,
   "metadata": {},
   "outputs": [],
   "source": [
    "careers.dropna(inplace=True)"
   ]
  },
  {
   "cell_type": "code",
   "execution_count": 6,
   "metadata": {},
   "outputs": [
    {
     "data": {
      "text/html": [
       "<div>\n",
       "<style scoped>\n",
       "    .dataframe tbody tr th:only-of-type {\n",
       "        vertical-align: middle;\n",
       "    }\n",
       "\n",
       "    .dataframe tbody tr th {\n",
       "        vertical-align: top;\n",
       "    }\n",
       "\n",
       "    .dataframe thead th {\n",
       "        text-align: right;\n",
       "    }\n",
       "</style>\n",
       "<table border=\"1\" class=\"dataframe\">\n",
       "  <thead>\n",
       "    <tr style=\"text-align: right;\">\n",
       "      <th></th>\n",
       "      <th>salary</th>\n",
       "      <th>salarytype</th>\n",
       "      <th>joblist</th>\n",
       "      <th>commitment</th>\n",
       "      <th>location</th>\n",
       "      <th>seniority</th>\n",
       "      <th>company</th>\n",
       "      <th>requirements</th>\n",
       "      <th>job_description</th>\n",
       "    </tr>\n",
       "  </thead>\n",
       "  <tbody>\n",
       "    <tr>\n",
       "      <th>1</th>\n",
       "      <td>$14,000to$16,000</td>\n",
       "      <td>Monthly</td>\n",
       "      <td>Regional Data Director</td>\n",
       "      <td>Permanent, Full Time</td>\n",
       "      <td>991C ALEXANDRA ROAD 119971</td>\n",
       "      <td>Manager, Professional</td>\n",
       "      <td>TBWA SINGAPORE PTE LTD</td>\n",
       "      <td>RequirementsWhat skills does a Regional Data D...</td>\n",
       "      <td>Roles &amp; ResponsibilitiesWhat exactly does a Re...</td>\n",
       "    </tr>\n",
       "    <tr>\n",
       "      <th>2</th>\n",
       "      <td>$2,500to$3,500</td>\n",
       "      <td>Monthly</td>\n",
       "      <td>Human Resource Executive</td>\n",
       "      <td>Full Time</td>\n",
       "      <td>JURONG FOOD HUB, 15 JALAN TEPONG 619336</td>\n",
       "      <td>Senior Executive</td>\n",
       "      <td>EBUY PTE. LTD.</td>\n",
       "      <td>Requirements ~ Analyse employee demographics a...</td>\n",
       "      <td>Roles &amp; ResponsibilitiesThe Human Resource Exe...</td>\n",
       "    </tr>\n",
       "    <tr>\n",
       "      <th>3</th>\n",
       "      <td>$3,000to$6,000</td>\n",
       "      <td>Monthly</td>\n",
       "      <td>HR Officer</td>\n",
       "      <td>Part Time, Permanent, Full Time, Flexi work</td>\n",
       "      <td>UNITY CENTRE, 51 BUKIT BATOK CRESCENT 658077</td>\n",
       "      <td>Executive, Senior Executive</td>\n",
       "      <td>TRAQUE PTE. LTD.</td>\n",
       "      <td>Requirements Working with hiring managers to d...</td>\n",
       "      <td>Roles &amp; ResponsibilitiesAs part of a human res...</td>\n",
       "    </tr>\n",
       "    <tr>\n",
       "      <th>4</th>\n",
       "      <td>$4,500to$6,000</td>\n",
       "      <td>Monthly</td>\n",
       "      <td>Finance Manager</td>\n",
       "      <td>Permanent</td>\n",
       "      <td>CLIFFORD CENTRE, 24 RAFFLES PLACE 048621</td>\n",
       "      <td>Manager</td>\n",
       "      <td>BURGER KING SINGAPORE PTE. LTD.</td>\n",
       "      <td>RequirementsResponsibilities  Responsible for ...</td>\n",
       "      <td>Roles &amp; ResponsibilitiesThe Finance Manager (F...</td>\n",
       "    </tr>\n",
       "    <tr>\n",
       "      <th>5</th>\n",
       "      <td>$4,000to$4,500</td>\n",
       "      <td>Monthly</td>\n",
       "      <td>DotNet Developer</td>\n",
       "      <td>Contract</td>\n",
       "      <td>INTERNATIONAL PLAZA, 10 ANSON ROAD 079903</td>\n",
       "      <td>Professional</td>\n",
       "      <td>XPLORE INFOCOMZ SOLUTION (PTE. LTD.)</td>\n",
       "      <td>RequirementsQualifications &amp; Experiences: Must...</td>\n",
       "      <td>Roles &amp; ResponsibilitiesJob Description: We ar...</td>\n",
       "    </tr>\n",
       "  </tbody>\n",
       "</table>\n",
       "</div>"
      ],
      "text/plain": [
       "             salary salarytype                   joblist  \\\n",
       "1  $14,000to$16,000    Monthly    Regional Data Director   \n",
       "2    $2,500to$3,500    Monthly  Human Resource Executive   \n",
       "3    $3,000to$6,000    Monthly                HR Officer   \n",
       "4    $4,500to$6,000    Monthly           Finance Manager   \n",
       "5    $4,000to$4,500    Monthly          DotNet Developer   \n",
       "\n",
       "                                    commitment  \\\n",
       "1                         Permanent, Full Time   \n",
       "2                                    Full Time   \n",
       "3  Part Time, Permanent, Full Time, Flexi work   \n",
       "4                                    Permanent   \n",
       "5                                     Contract   \n",
       "\n",
       "                                       location                    seniority  \\\n",
       "1                    991C ALEXANDRA ROAD 119971        Manager, Professional   \n",
       "2       JURONG FOOD HUB, 15 JALAN TEPONG 619336             Senior Executive   \n",
       "3  UNITY CENTRE, 51 BUKIT BATOK CRESCENT 658077  Executive, Senior Executive   \n",
       "4      CLIFFORD CENTRE, 24 RAFFLES PLACE 048621                      Manager   \n",
       "5     INTERNATIONAL PLAZA, 10 ANSON ROAD 079903                 Professional   \n",
       "\n",
       "                                company  \\\n",
       "1                TBWA SINGAPORE PTE LTD   \n",
       "2                        EBUY PTE. LTD.   \n",
       "3                      TRAQUE PTE. LTD.   \n",
       "4       BURGER KING SINGAPORE PTE. LTD.   \n",
       "5  XPLORE INFOCOMZ SOLUTION (PTE. LTD.)   \n",
       "\n",
       "                                        requirements  \\\n",
       "1  RequirementsWhat skills does a Regional Data D...   \n",
       "2  Requirements ~ Analyse employee demographics a...   \n",
       "3  Requirements Working with hiring managers to d...   \n",
       "4  RequirementsResponsibilities  Responsible for ...   \n",
       "5  RequirementsQualifications & Experiences: Must...   \n",
       "\n",
       "                                     job_description  \n",
       "1  Roles & ResponsibilitiesWhat exactly does a Re...  \n",
       "2  Roles & ResponsibilitiesThe Human Resource Exe...  \n",
       "3  Roles & ResponsibilitiesAs part of a human res...  \n",
       "4  Roles & ResponsibilitiesThe Finance Manager (F...  \n",
       "5  Roles & ResponsibilitiesJob Description: We ar...  "
      ]
     },
     "execution_count": 6,
     "metadata": {},
     "output_type": "execute_result"
    }
   ],
   "source": [
    "careers.head()"
   ]
  },
  {
   "cell_type": "markdown",
   "metadata": {},
   "source": [
    "### EDA"
   ]
  },
  {
   "cell_type": "code",
   "execution_count": 7,
   "metadata": {},
   "outputs": [],
   "source": [
    "import matplotlib.pyplot as plt\n"
   ]
  },
  {
   "cell_type": "code",
   "execution_count": 8,
   "metadata": {},
   "outputs": [
    {
     "data": {
      "text/plain": [
       "Text(0,0.5,'Count')"
      ]
     },
     "execution_count": 8,
     "metadata": {},
     "output_type": "execute_result"
    },
    {
     "data": {
      "image/png": "[encoded data removed]",
      "text/plain": [
       "<Figure size 1080x720 with 1 Axes>"
      ]
     },
     "metadata": {
      "needs_background": "light"
     },
     "output_type": "display_data"
    }
   ],
   "source": [
    "fig,ax=plt.subplots(figsize=(15,10))\n",
    "careers.groupby(['salarytype']).count()['salary'].plot(kind='bar')\n",
    "ax.set_ylabel('Count')"
   ]
  },
  {
   "cell_type": "code",
   "execution_count": 9,
   "metadata": {},
   "outputs": [
    {
     "data": {
      "text/plain": [
       "Text(0,0.5,'Count')"
      ]
     },
     "execution_count": 9,
     "metadata": {},
     "output_type": "execute_result"
    },
    {
     "data": {
      "image/png": "[encoded data removed]",
      "text/plain": [
       "<Figure size 1080x720 with 1 Axes>"
      ]
     },
     "metadata": {
      "needs_background": "light"
     },
     "output_type": "display_data"
    }
   ],
   "source": [
    "fig,ax=plt.subplots(figsize=(15,10))\n",
    "careers.groupby(['commitment']).count()['salary'].sort_values(ascending=False).plot(kind='bar')\n",
    "ax.set_ylabel('Count')"
   ]
  },
  {
   "cell_type": "markdown",
   "metadata": {},
   "source": [
    "### FEATURE ENGINEERING"
   ]
  },
  {
   "cell_type": "markdown",
   "metadata": {},
   "source": [
    "#### Classification Problem"
   ]
  },
  {
   "cell_type": "markdown",
   "metadata": {},
   "source": [
    "#### We will frame this as a classification problem, so we will have to split it into higher vs lower salary\n",
    "\n",
    "1) For location, we will just use postal code as all the information is already in the postal code.\n",
    "\n",
    "2) For salary, we will split it into min salary and max salary. Followed by a division of 12 for those that have salarytype annually. After which, we will use the average of the min and max salary and split it into higher=above median, lower=below median\n",
    "\n",
    "3) Requirements and job_description will be taken out as they do not help with the classfication problem\n"
   ]
  },
  {
   "cell_type": "markdown",
   "metadata": {},
   "source": [
    "1)"
   ]
  },
  {
   "cell_type": "code",
   "execution_count": 10,
   "metadata": {},
   "outputs": [],
   "source": [
    "careers['location']=careers['location'].str.split(' ').map(lambda x:x[-1])"
   ]
  },
  {
   "cell_type": "markdown",
   "metadata": {},
   "source": [
    "2)"
   ]
  },
  {
   "cell_type": "code",
   "execution_count": 11,
   "metadata": {},
   "outputs": [],
   "source": [
    "careers[['salarymin','salarymax']]=careers['salary'].str.split(\"to\", n = 1, expand = True)"
   ]
  },
  {
   "cell_type": "code",
   "execution_count": 12,
   "metadata": {},
   "outputs": [],
   "source": [
    "careers.drop(columns='salary',inplace=True)"
   ]
  },
  {
   "cell_type": "code",
   "execution_count": 13,
   "metadata": {},
   "outputs": [],
   "source": [
    "careers[['salarymin','salarymax']]=careers[['salarymin','salarymax']].applymap(lambda x:x.replace('$',' ').replace(',',''))"
   ]
  },
  {
   "cell_type": "code",
   "execution_count": 14,
   "metadata": {},
   "outputs": [],
   "source": [
    "careers[['salarymin','salarymax']]=careers[['salarymin','salarymax']].applymap(lambda x:int(x))"
   ]
  },
  {
   "cell_type": "code",
   "execution_count": 15,
   "metadata": {},
   "outputs": [],
   "source": [
    "careers.loc[careers['salarytype']=='Annually',['salarymin','salarymax']]=careers.loc[careers['salarytype']=='Annually',['salarymin','salarymax']]/12"
   ]
  },
  {
   "cell_type": "code",
   "execution_count": 16,
   "metadata": {},
   "outputs": [],
   "source": [
    "careers.drop(columns='salarytype',inplace=True)"
   ]
  },
  {
   "cell_type": "code",
   "execution_count": 17,
   "metadata": {},
   "outputs": [],
   "source": [
    "careers['avgsalary']=(careers['salarymin']+careers['salarymax'])/2"
   ]
  },
  {
   "cell_type": "code",
   "execution_count": 18,
   "metadata": {},
   "outputs": [],
   "source": [
    "careers['salaryhigh']=[1 if x>np.median(careers['avgsalary']) else 0 for x in careers['avgsalary']]"
   ]
  },
  {
   "cell_type": "code",
   "execution_count": 19,
   "metadata": {},
   "outputs": [],
   "source": [
    "careers2=careers.drop(columns=['salarymin','salarymax','avgsalary'])"
   ]
  },
  {
   "cell_type": "markdown",
   "metadata": {},
   "source": [
    "3)"
   ]
  },
  {
   "cell_type": "code",
   "execution_count": 20,
   "metadata": {},
   "outputs": [],
   "source": [
    "careers2.drop(columns=['job_description','requirements'],inplace=True)"
   ]
  },
  {
   "cell_type": "code",
   "execution_count": 21,
   "metadata": {},
   "outputs": [
    {
     "data": {
      "text/html": [
       "<div>\n",
       "<style scoped>\n",
       "    .dataframe tbody tr th:only-of-type {\n",
       "        vertical-align: middle;\n",
       "    }\n",
       "\n",
       "    .dataframe tbody tr th {\n",
       "        vertical-align: top;\n",
       "    }\n",
       "\n",
       "    .dataframe thead th {\n",
       "        text-align: right;\n",
       "    }\n",
       "</style>\n",
       "<table border=\"1\" class=\"dataframe\">\n",
       "  <thead>\n",
       "    <tr style=\"text-align: right;\">\n",
       "      <th></th>\n",
       "      <th>joblist</th>\n",
       "      <th>commitment</th>\n",
       "      <th>location</th>\n",
       "      <th>seniority</th>\n",
       "      <th>company</th>\n",
       "      <th>salaryhigh</th>\n",
       "    </tr>\n",
       "  </thead>\n",
       "  <tbody>\n",
       "    <tr>\n",
       "      <th>1</th>\n",
       "      <td>Regional Data Director</td>\n",
       "      <td>Permanent, Full Time</td>\n",
       "      <td>119971</td>\n",
       "      <td>Manager, Professional</td>\n",
       "      <td>TBWA SINGAPORE PTE LTD</td>\n",
       "      <td>1</td>\n",
       "    </tr>\n",
       "    <tr>\n",
       "      <th>2</th>\n",
       "      <td>Human Resource Executive</td>\n",
       "      <td>Full Time</td>\n",
       "      <td>619336</td>\n",
       "      <td>Senior Executive</td>\n",
       "      <td>EBUY PTE. LTD.</td>\n",
       "      <td>0</td>\n",
       "    </tr>\n",
       "    <tr>\n",
       "      <th>3</th>\n",
       "      <td>HR Officer</td>\n",
       "      <td>Part Time, Permanent, Full Time, Flexi work</td>\n",
       "      <td>658077</td>\n",
       "      <td>Executive, Senior Executive</td>\n",
       "      <td>TRAQUE PTE. LTD.</td>\n",
       "      <td>0</td>\n",
       "    </tr>\n",
       "    <tr>\n",
       "      <th>4</th>\n",
       "      <td>Finance Manager</td>\n",
       "      <td>Permanent</td>\n",
       "      <td>048621</td>\n",
       "      <td>Manager</td>\n",
       "      <td>BURGER KING SINGAPORE PTE. LTD.</td>\n",
       "      <td>0</td>\n",
       "    </tr>\n",
       "    <tr>\n",
       "      <th>5</th>\n",
       "      <td>DotNet Developer</td>\n",
       "      <td>Contract</td>\n",
       "      <td>079903</td>\n",
       "      <td>Professional</td>\n",
       "      <td>XPLORE INFOCOMZ SOLUTION (PTE. LTD.)</td>\n",
       "      <td>0</td>\n",
       "    </tr>\n",
       "  </tbody>\n",
       "</table>\n",
       "</div>"
      ],
      "text/plain": [
       "                    joblist                                   commitment  \\\n",
       "1    Regional Data Director                         Permanent, Full Time   \n",
       "2  Human Resource Executive                                    Full Time   \n",
       "3                HR Officer  Part Time, Permanent, Full Time, Flexi work   \n",
       "4           Finance Manager                                    Permanent   \n",
       "5          DotNet Developer                                     Contract   \n",
       "\n",
       "  location                    seniority                               company  \\\n",
       "1   119971        Manager, Professional                TBWA SINGAPORE PTE LTD   \n",
       "2   619336             Senior Executive                        EBUY PTE. LTD.   \n",
       "3   658077  Executive, Senior Executive                      TRAQUE PTE. LTD.   \n",
       "4   048621                      Manager       BURGER KING SINGAPORE PTE. LTD.   \n",
       "5   079903                 Professional  XPLORE INFOCOMZ SOLUTION (PTE. LTD.)   \n",
       "\n",
       "   salaryhigh  \n",
       "1           1  \n",
       "2           0  \n",
       "3           0  \n",
       "4           0  \n",
       "5           0  "
      ]
     },
     "execution_count": 21,
     "metadata": {},
     "output_type": "execute_result"
    }
   ],
   "source": [
    "careers2.head()"
   ]
  },
  {
   "cell_type": "code",
   "execution_count": 22,
   "metadata": {},
   "outputs": [],
   "source": [
    "dummycareers=pd.get_dummies(careers2)"
   ]
  },
  {
   "cell_type": "markdown",
   "metadata": {},
   "source": [
    "## MODELLING"
   ]
  },
  {
   "cell_type": "markdown",
   "metadata": {},
   "source": [
    "### MODELS\n",
    "1) Logistic regression(with best/no best)\n",
    "\n",
    "2) KNN(with best/no best)\n",
    "\n",
    "3) Random Forest(with best/no best)\n",
    "\n",
    "4) DecisionTreeClassifier(with best/no best)\n",
    "\n",
    "5) AdaBoosting/Gradient boosting ensemble(with best/no best)\n",
    "\n",
    "6) SVM"
   ]
  },
  {
   "cell_type": "markdown",
   "metadata": {},
   "source": [
    "## Logistic Regression:"
   ]
  },
  {
   "cell_type": "code",
   "execution_count": 23,
   "metadata": {},
   "outputs": [],
   "source": [
    "#splitting into train-test set\n",
    "y=dummycareers['salaryhigh']\n",
    "X=dummycareers.iloc[:,1:]"
   ]
  },
  {
   "cell_type": "code",
   "execution_count": 24,
   "metadata": {},
   "outputs": [],
   "source": [
    "from sklearn.linear_model import LogisticRegression\n",
    "LR=LogisticRegression(random_state=42)\n",
    "logis=LR.fit(X,y)"
   ]
  },
  {
   "cell_type": "code",
   "execution_count": 25,
   "metadata": {},
   "outputs": [
    {
     "name": "stdout",
     "output_type": "stream",
     "text": [
      "0.8325512431418147\n",
      "0.02587104040455497\n"
     ]
    }
   ],
   "source": [
    "#Cross-val within train data\n",
    "from sklearn.model_selection import cross_val_score\n",
    "score=cross_val_score(LR,X,y, scoring='roc_auc')\n",
    "print(np.mean(score))\n",
    "print(np.std(score))"
   ]
  },
  {
   "cell_type": "markdown",
   "metadata": {},
   "source": [
    "### KNN:"
   ]
  },
  {
   "cell_type": "code",
   "execution_count": 26,
   "metadata": {},
   "outputs": [],
   "source": [
    "#using all features\n",
    "from sklearn.preprocessing import StandardScaler\n",
    "\n",
    "ss = StandardScaler()\n",
    "Xs = ss.fit_transform(X)"
   ]
  },
  {
   "cell_type": "code",
   "execution_count": 27,
   "metadata": {},
   "outputs": [
    {
     "name": "stdout",
     "output_type": "stream",
     "text": [
      "0.6109811637241368\n",
      "0.022703589781842552\n"
     ]
    }
   ],
   "source": [
    "#Cross-val within train data\n",
    "from sklearn.neighbors import KNeighborsClassifier\n",
    "knn=KNeighborsClassifier()\n",
    "KNN=knn.fit(Xs,y)\n",
    "score=cross_val_score(knn, Xs,y, scoring='roc_auc')\n",
    "print(np.mean(score))\n",
    "print(np.std(score))"
   ]
  },
  {
   "cell_type": "markdown",
   "metadata": {},
   "source": [
    "### Random Forest:"
   ]
  },
  {
   "cell_type": "code",
   "execution_count": 28,
   "metadata": {},
   "outputs": [
    {
     "name": "stderr",
     "output_type": "stream",
     "text": [
      "/Users/techno/anaconda3/lib/python3.7/site-packages/sklearn/ensemble/weight_boosting.py:29: DeprecationWarning: numpy.core.umath_tests is an internal NumPy module and should not be imported. It will be removed in a future NumPy release.\n",
      "  from numpy.core.umath_tests import inner1d\n"
     ]
    }
   ],
   "source": [
    "from sklearn.ensemble import RandomForestClassifier\n",
    "RFC=RandomForestClassifier(n_estimators=100)\n",
    "rfc=RFC.fit(X,y)"
   ]
  },
  {
   "cell_type": "code",
   "execution_count": 29,
   "metadata": {},
   "outputs": [
    {
     "name": "stdout",
     "output_type": "stream",
     "text": [
      "0.829559148103491\n",
      "0.026008598869026255\n"
     ]
    }
   ],
   "source": [
    "score=cross_val_score(RFC, X,y, scoring='roc_auc')\n",
    "print(np.mean(score))\n",
    "print(np.std(score))"
   ]
  },
  {
   "cell_type": "markdown",
   "metadata": {},
   "source": [
    "### DecisionTree:"
   ]
  },
  {
   "cell_type": "code",
   "execution_count": 30,
   "metadata": {},
   "outputs": [],
   "source": [
    "from sklearn.tree import DecisionTreeClassifier\n",
    "dtcN = DecisionTreeClassifier(max_depth=None, random_state=42)\n",
    "DTCN=dtcN.fit(X,y)"
   ]
  },
  {
   "cell_type": "code",
   "execution_count": 31,
   "metadata": {},
   "outputs": [
    {
     "name": "stdout",
     "output_type": "stream",
     "text": [
      "0.7410342920353982\n",
      "0.007902938836257053\n"
     ]
    }
   ],
   "source": [
    "score=cross_val_score(dtcN,X, y,scoring='roc_auc')\n",
    "print(np.mean(score))\n",
    "print(np.std(score))"
   ]
  },
  {
   "cell_type": "markdown",
   "metadata": {},
   "source": [
    "### Gradient Boosting:"
   ]
  },
  {
   "cell_type": "code",
   "execution_count": 32,
   "metadata": {},
   "outputs": [],
   "source": [
    "from sklearn.ensemble import GradientBoostingClassifier\n",
    "XGB=GradientBoostingClassifier()\n",
    "grad=XGB.fit(X,y)"
   ]
  },
  {
   "cell_type": "code",
   "execution_count": 33,
   "metadata": {},
   "outputs": [
    {
     "name": "stdout",
     "output_type": "stream",
     "text": [
      "0.8142062946095319\n",
      "0.016898476780623266\n"
     ]
    }
   ],
   "source": [
    "score=cross_val_score(XGB,X,y, scoring='roc_auc')\n",
    "print(np.mean(score))\n",
    "print(np.std(score))"
   ]
  },
  {
   "cell_type": "markdown",
   "metadata": {},
   "source": [
    "### SVM"
   ]
  },
  {
   "cell_type": "markdown",
   "metadata": {},
   "source": [
    "### Linear"
   ]
  },
  {
   "cell_type": "code",
   "execution_count": 34,
   "metadata": {},
   "outputs": [
    {
     "name": "stdout",
     "output_type": "stream",
     "text": [
      "0.8174067593360944\n",
      "0.021340105918093478\n"
     ]
    }
   ],
   "source": [
    "from sklearn.svm import SVC\n",
    "svclass=SVC(kernel='linear')\n",
    "svclass.fit(X,y)\n",
    "score=cross_val_score(svclass,X, y,scoring='roc_auc')\n",
    "print(np.mean(score))\n",
    "print(np.std(score))"
   ]
  },
  {
   "cell_type": "markdown",
   "metadata": {},
   "source": [
    "### Polynomial"
   ]
  },
  {
   "cell_type": "code",
   "execution_count": 35,
   "metadata": {},
   "outputs": [
    {
     "name": "stdout",
     "output_type": "stream",
     "text": [
      "0.8070983544841533\n",
      "0.029248025054952817\n"
     ]
    }
   ],
   "source": [
    "svclass=SVC(kernel='poly')\n",
    "svclass.fit(X,y)\n",
    "score=cross_val_score(svclass,X, y,scoring='roc_auc')\n",
    "print(np.mean(score))\n",
    "print(np.std(score))"
   ]
  },
  {
   "cell_type": "markdown",
   "metadata": {},
   "source": [
    "### GAUSSIAN"
   ]
  },
  {
   "cell_type": "code",
   "execution_count": 36,
   "metadata": {},
   "outputs": [
    {
     "name": "stdout",
     "output_type": "stream",
     "text": [
      "0.7687007282093852\n",
      "0.03595408780333809\n"
     ]
    }
   ],
   "source": [
    "svclass=SVC(kernel='rbf')\n",
    "svclass.fit(X,y)\n",
    "score=cross_val_score(svclass,X, y,scoring='roc_auc')\n",
    "print(np.mean(score))\n",
    "print(np.std(score))"
   ]
  },
  {
   "cell_type": "markdown",
   "metadata": {},
   "source": [
    "## FEATURE SELECTION\n",
    "\n",
    "Using the best 3 models, we will perform feature selection and choose the best features to see if they affect the score"
   ]
  },
  {
   "cell_type": "code",
   "execution_count": 37,
   "metadata": {},
   "outputs": [
    {
     "data": {
      "text/html": [
       "<div>\n",
       "<style scoped>\n",
       "    .dataframe tbody tr th:only-of-type {\n",
       "        vertical-align: middle;\n",
       "    }\n",
       "\n",
       "    .dataframe tbody tr th {\n",
       "        vertical-align: top;\n",
       "    }\n",
       "\n",
       "    .dataframe thead th {\n",
       "        text-align: right;\n",
       "    }\n",
       "</style>\n",
       "<table border=\"1\" class=\"dataframe\">\n",
       "  <thead>\n",
       "    <tr style=\"text-align: right;\">\n",
       "      <th></th>\n",
       "      <th>feature</th>\n",
       "      <th>f_classif</th>\n",
       "      <th>chi2 score</th>\n",
       "    </tr>\n",
       "  </thead>\n",
       "  <tbody>\n",
       "    <tr>\n",
       "      <th>1517</th>\n",
       "      <td>seniority_Junior Executive</td>\n",
       "      <td>103.612</td>\n",
       "      <td>88.8952</td>\n",
       "    </tr>\n",
       "    <tr>\n",
       "      <th>1539</th>\n",
       "      <td>seniority_Senior Management</td>\n",
       "      <td>52.6746</td>\n",
       "      <td>48.6715</td>\n",
       "    </tr>\n",
       "    <tr>\n",
       "      <th>1531</th>\n",
       "      <td>seniority_Professional</td>\n",
       "      <td>48.2558</td>\n",
       "      <td>38.1768</td>\n",
       "    </tr>\n",
       "    <tr>\n",
       "      <th>1509</th>\n",
       "      <td>seniority_Fresh/entry level</td>\n",
       "      <td>44.5938</td>\n",
       "      <td>41.763</td>\n",
       "    </tr>\n",
       "    <tr>\n",
       "      <th>1094</th>\n",
       "      <td>location_018981</td>\n",
       "      <td>43.4466</td>\n",
       "      <td>40.6597</td>\n",
       "    </tr>\n",
       "    <tr>\n",
       "      <th>1529</th>\n",
       "      <td>seniority_Non-executive</td>\n",
       "      <td>41.0395</td>\n",
       "      <td>37.0584</td>\n",
       "    </tr>\n",
       "    <tr>\n",
       "      <th>1519</th>\n",
       "      <td>seniority_Manager</td>\n",
       "      <td>34.4024</td>\n",
       "      <td>29.9227</td>\n",
       "    </tr>\n",
       "    <tr>\n",
       "      <th>1273</th>\n",
       "      <td>location_188216</td>\n",
       "      <td>27.8698</td>\n",
       "      <td>26.8012</td>\n",
       "    </tr>\n",
       "    <tr>\n",
       "      <th>1878</th>\n",
       "      <td>company_MACHSPEED HUMAN RESOURCES PTE. LTD.</td>\n",
       "      <td>25.7264</td>\n",
       "      <td>24.8159</td>\n",
       "    </tr>\n",
       "    <tr>\n",
       "      <th>1524</th>\n",
       "      <td>seniority_Middle Management</td>\n",
       "      <td>24.8329</td>\n",
       "      <td>23.41</td>\n",
       "    </tr>\n",
       "  </tbody>\n",
       "</table>\n",
       "</div>"
      ],
      "text/plain": [
       "                                          feature f_classif chi2 score\n",
       "1517                   seniority_Junior Executive   103.612    88.8952\n",
       "1539                  seniority_Senior Management   52.6746    48.6715\n",
       "1531                       seniority_Professional   48.2558    38.1768\n",
       "1509                  seniority_Fresh/entry level   44.5938     41.763\n",
       "1094                              location_018981   43.4466    40.6597\n",
       "1529                      seniority_Non-executive   41.0395    37.0584\n",
       "1519                            seniority_Manager   34.4024    29.9227\n",
       "1273                              location_188216   27.8698    26.8012\n",
       "1878  company_MACHSPEED HUMAN RESOURCES PTE. LTD.   25.7264    24.8159\n",
       "1524                  seniority_Middle Management   24.8329      23.41"
      ]
     },
     "execution_count": 37,
     "metadata": {},
     "output_type": "execute_result"
    }
   ],
   "source": [
    "# We will use the 10 best features for the models\n",
    "from sklearn.feature_selection import SelectKBest, chi2, f_classif\n",
    "# Build the selector — we'll build one with each score type.\n",
    "skb_f = SelectKBest(f_classif, k=5)\n",
    "skb_chi2 = SelectKBest(chi2, k=5)\n",
    "\n",
    "# Train the selector on the data.\n",
    "skb_f.fit(X, y)\n",
    "skb_chi2.fit(np.abs(X), np.abs(y))\n",
    "\n",
    "# Examine the results.\n",
    "kbest = pd.DataFrame([list(X.columns), list(skb_f.scores_), list(skb_chi2.scores_)], \n",
    "                     index=['feature','f_classif','chi2 score']).T.sort_values('f_classif', ascending=False)\n",
    "kbest.head(10)"
   ]
  },
  {
   "cell_type": "markdown",
   "metadata": {},
   "source": [
    "Understandable as the seniority of the positions do play a huge factor in salary logically."
   ]
  },
  {
   "cell_type": "code",
   "execution_count": 38,
   "metadata": {},
   "outputs": [],
   "source": [
    "X10=X[[x for x in kbest['feature']]]\n",
    "#Let's use the best 10 features on our best 3 models"
   ]
  },
  {
   "cell_type": "markdown",
   "metadata": {},
   "source": [
    "### Logistic Regression"
   ]
  },
  {
   "cell_type": "code",
   "execution_count": 39,
   "metadata": {},
   "outputs": [
    {
     "name": "stdout",
     "output_type": "stream",
     "text": [
      "0.8325545063168841\n",
      "0.025873108847731103\n"
     ]
    }
   ],
   "source": [
    "score=cross_val_score(LR,X10,y, scoring='roc_auc')\n",
    "print(np.mean(score))\n",
    "print(np.std(score))"
   ]
  },
  {
   "cell_type": "markdown",
   "metadata": {},
   "source": [
    "### Random Forest "
   ]
  },
  {
   "cell_type": "code",
   "execution_count": 40,
   "metadata": {},
   "outputs": [
    {
     "name": "stdout",
     "output_type": "stream",
     "text": [
      "0.8279849284808765\n",
      "0.025892432159416254\n"
     ]
    }
   ],
   "source": [
    "score=cross_val_score(RFC, X10,y, scoring='roc_auc')\n",
    "print(np.mean(score))\n",
    "print(np.std(score))"
   ]
  },
  {
   "cell_type": "markdown",
   "metadata": {},
   "source": [
    "### SVM"
   ]
  },
  {
   "cell_type": "code",
   "execution_count": 41,
   "metadata": {},
   "outputs": [
    {
     "name": "stdout",
     "output_type": "stream",
     "text": [
      "0.8174067593360944\n",
      "0.021340105918093478\n"
     ]
    }
   ],
   "source": [
    "svclass=SVC(kernel='linear')\n",
    "score=cross_val_score(svclass,X10, y,scoring='roc_auc')\n",
    "print(np.mean(score))\n",
    "print(np.std(score))"
   ]
  },
  {
   "cell_type": "markdown",
   "metadata": {},
   "source": [
    "Models do not have any significant change with 10 best features"
   ]
  },
  {
   "cell_type": "markdown",
   "metadata": {},
   "source": [
    "## MODELLING WITH NLP"
   ]
  },
  {
   "cell_type": "markdown",
   "metadata": {},
   "source": [
    "Now, we add in job descriptions and requirements and see if they have any effect on the model scores"
   ]
  },
  {
   "cell_type": "code",
   "execution_count": 95,
   "metadata": {},
   "outputs": [],
   "source": [
    "nlpcareers=careers.drop(columns=['salarymin','salarymax','avgsalary'])"
   ]
  },
  {
   "cell_type": "code",
   "execution_count": 105,
   "metadata": {},
   "outputs": [],
   "source": [
    "nlpcareers['requirements']=nlpcareers['requirements'].apply(lambda x:x.replace('Requirements',''))\n",
    "nlpcareers['job_description']=nlpcareers['job_description'].apply(lambda x:x.replace('Roles & Responsibilities',''))"
   ]
  },
  {
   "cell_type": "code",
   "execution_count": 115,
   "metadata": {},
   "outputs": [],
   "source": [
    "nlpcareers['summary']=nlpcareers['requirements']+' '+nlpcareers['job_description']"
   ]
  },
  {
   "cell_type": "code",
   "execution_count": 127,
   "metadata": {},
   "outputs": [],
   "source": [
    "from nltk.tokenize import WordPunctTokenizer\n",
    "import re\n",
    "wpt=WordPunctTokenizer()\n",
    "stop_words=[]\n",
    "def normalize_document(doc):\n",
    "    doc=re.sub(r'[^a-zA-Z\\s]', '', doc, re.I|re.A)\n",
    "    doc=doc.lower()\n",
    "    doc=doc.strip()\n",
    "    tokens=wpt.tokenize(doc)\n",
    "    filtered_tokens=[token for token in tokens if token not in stop_words]\n",
    "    doc=' '.join(filtered_tokens)\n",
    "    return(doc)\n",
    "\n",
    "nlpcareers['summary']=nlpcareers['summary'].apply(normalize_document)"
   ]
  },
  {
   "cell_type": "code",
   "execution_count": 132,
   "metadata": {},
   "outputs": [],
   "source": [
    "x=nlpcareers['summary']\n",
    "Y=nlpcareers['salaryhigh']"
   ]
  },
  {
   "cell_type": "code",
   "execution_count": 134,
   "metadata": {},
   "outputs": [],
   "source": [
    "# Count vectorise the x which is job description and job requirements\n",
    "cvt = CountVectorizer(ngram_range=(1,4))\n",
    "tokens = pd.DataFrame(cvt.fit_transform(x).todense(), columns=cvt.get_feature_names())"
   ]
  },
  {
   "cell_type": "markdown",
   "metadata": {},
   "source": [
    "### Logistic Regression(NLP)"
   ]
  },
  {
   "cell_type": "code",
   "execution_count": 135,
   "metadata": {},
   "outputs": [
    {
     "data": {
      "text/plain": [
       "LogisticRegression(C=1.0, class_weight=None, dual=False, fit_intercept=True,\n",
       "          intercept_scaling=1, max_iter=100, multi_class='ovr', n_jobs=1,\n",
       "          penalty='l2', random_state=42, solver='liblinear', tol=0.0001,\n",
       "          verbose=0, warm_start=False)"
      ]
     },
     "execution_count": 135,
     "metadata": {},
     "output_type": "execute_result"
    }
   ],
   "source": [
    "LR.fit(tokens, Y)"
   ]
  },
  {
   "cell_type": "code",
   "execution_count": 136,
   "metadata": {},
   "outputs": [
    {
     "name": "stdout",
     "output_type": "stream",
     "text": [
      "0.8240283523013119\n",
      "0.014914962027797919\n"
     ]
    }
   ],
   "source": [
    "score=cross_val_score(LR,tokens,y, scoring='roc_auc')\n",
    "print(np.mean(score))\n",
    "print(np.std(score))"
   ]
  },
  {
   "cell_type": "markdown",
   "metadata": {},
   "source": [
    "### Random Forest(NLP)"
   ]
  },
  {
   "cell_type": "code",
   "execution_count": 137,
   "metadata": {},
   "outputs": [
    {
     "name": "stdout",
     "output_type": "stream",
     "text": [
      "0.8011063536462887\n",
      "0.012112486296974152\n"
     ]
    }
   ],
   "source": [
    "score=cross_val_score(RFC, tokens,y, scoring='roc_auc')\n",
    "print(np.mean(score))\n",
    "print(np.std(score))"
   ]
  },
  {
   "cell_type": "markdown",
   "metadata": {},
   "source": [
    "Conclusion:\n",
    "\n",
    "The best model seems to be Logistic Regression as it is simple yet powerful.\n",
    "\n",
    "LR score= 0.8325545063168841\n",
    "\n",
    "LR std= 0.025873108847731103\n",
    "\n",
    "LR NLP score= 0.8240283523013119\n",
    "\n",
    "LR NLP std= 0.014914962027797919\n",
    "\n",
    "\n",
    "Followed by Random Forest:\n",
    "\n",
    "RF score= 0.8279849284808765\n",
    "\n",
    "RF std= 0.025892432159416254\n",
    "\n",
    "RF NLP score= 0.8011063536462887\n",
    "\n",
    "RF NLP std= 0.012112486296974152\n",
    "\n",
    "Seniority seems to be a very major deciding factor in salary, which makes sense logically as people with more experience should be paid more than entry level graduates"
   ]
  },
  {
   "cell_type": "markdown",
   "metadata": {},
   "source": [
    "## QUESTION 2: Factors that distinguish job category\n",
    "\n",
    "Using the job postings you scraped for part 1 (or potentially new job postings from a second round of scraping), identify features in the data related to job postings that can distinguish job titles from each other. There are a variety of interesting ways you can frame the target variable, for example:\n",
    "- What components of a job posting distinguish data scientists from other data jobs?\n",
    "- What features are important for distinguishing junior vs. senior positions?\n",
    "- Do the requirements for titles vary significantly with industry (e.g. healthcare vs. government)?\n",
    "\n",
    "You may end up making multiple classification models to tackle different questions. Be sure to clearly explain your hypotheses and framing, any feature engineering, and what your target variables are. The type of classification model you choose is up to you. Be sure to interpret your results and evaluate your models' performance."
   ]
  },
  {
   "cell_type": "markdown",
   "metadata": {},
   "source": [
    "The target will be finding out the features in the job title that are important for distinguishing junior vs senior positions:\n",
    "    "
   ]
  },
  {
   "cell_type": "code",
   "execution_count": 45,
   "metadata": {},
   "outputs": [],
   "source": [
    "careers.rename(columns={'joblist':'jobcategory'}, inplace=True)"
   ]
  },
  {
   "cell_type": "code",
   "execution_count": 53,
   "metadata": {},
   "outputs": [],
   "source": [
    "careers3=careers.drop(columns=['salarymin','salarymax','salaryhigh'])"
   ]
  },
  {
   "cell_type": "markdown",
   "metadata": {},
   "source": [
    "NLP"
   ]
  },
  {
   "cell_type": "code",
   "execution_count": 55,
   "metadata": {},
   "outputs": [
    {
     "data": {
      "text/html": [
       "<div>\n",
       "<style scoped>\n",
       "    .dataframe tbody tr th:only-of-type {\n",
       "        vertical-align: middle;\n",
       "    }\n",
       "\n",
       "    .dataframe tbody tr th {\n",
       "        vertical-align: top;\n",
       "    }\n",
       "\n",
       "    .dataframe thead th {\n",
       "        text-align: right;\n",
       "    }\n",
       "</style>\n",
       "<table border=\"1\" class=\"dataframe\">\n",
       "  <thead>\n",
       "    <tr style=\"text-align: right;\">\n",
       "      <th></th>\n",
       "      <th>jobcategory</th>\n",
       "      <th>commitment</th>\n",
       "      <th>location</th>\n",
       "      <th>seniority</th>\n",
       "      <th>company</th>\n",
       "      <th>requirements</th>\n",
       "      <th>job_description</th>\n",
       "      <th>avgsalary</th>\n",
       "    </tr>\n",
       "  </thead>\n",
       "  <tbody>\n",
       "    <tr>\n",
       "      <th>1</th>\n",
       "      <td>Regional Data Director</td>\n",
       "      <td>Permanent, Full Time</td>\n",
       "      <td>119971</td>\n",
       "      <td>Manager, Professional</td>\n",
       "      <td>TBWA SINGAPORE PTE LTD</td>\n",
       "      <td>RequirementsWhat skills does a Regional Data D...</td>\n",
       "      <td>Roles &amp; ResponsibilitiesWhat exactly does a Re...</td>\n",
       "      <td>15000.0</td>\n",
       "    </tr>\n",
       "    <tr>\n",
       "      <th>2</th>\n",
       "      <td>Human Resource Executive</td>\n",
       "      <td>Full Time</td>\n",
       "      <td>619336</td>\n",
       "      <td>Senior Executive</td>\n",
       "      <td>EBUY PTE. LTD.</td>\n",
       "      <td>Requirements ~ Analyse employee demographics a...</td>\n",
       "      <td>Roles &amp; ResponsibilitiesThe Human Resource Exe...</td>\n",
       "      <td>3000.0</td>\n",
       "    </tr>\n",
       "    <tr>\n",
       "      <th>3</th>\n",
       "      <td>HR Officer</td>\n",
       "      <td>Part Time, Permanent, Full Time, Flexi work</td>\n",
       "      <td>658077</td>\n",
       "      <td>Executive, Senior Executive</td>\n",
       "      <td>TRAQUE PTE. LTD.</td>\n",
       "      <td>Requirements Working with hiring managers to d...</td>\n",
       "      <td>Roles &amp; ResponsibilitiesAs part of a human res...</td>\n",
       "      <td>4500.0</td>\n",
       "    </tr>\n",
       "    <tr>\n",
       "      <th>4</th>\n",
       "      <td>Finance Manager</td>\n",
       "      <td>Permanent</td>\n",
       "      <td>048621</td>\n",
       "      <td>Manager</td>\n",
       "      <td>BURGER KING SINGAPORE PTE. LTD.</td>\n",
       "      <td>RequirementsResponsibilities  Responsible for ...</td>\n",
       "      <td>Roles &amp; ResponsibilitiesThe Finance Manager (F...</td>\n",
       "      <td>5250.0</td>\n",
       "    </tr>\n",
       "    <tr>\n",
       "      <th>5</th>\n",
       "      <td>DotNet Developer</td>\n",
       "      <td>Contract</td>\n",
       "      <td>079903</td>\n",
       "      <td>Professional</td>\n",
       "      <td>XPLORE INFOCOMZ SOLUTION (PTE. LTD.)</td>\n",
       "      <td>RequirementsQualifications &amp; Experiences: Must...</td>\n",
       "      <td>Roles &amp; ResponsibilitiesJob Description: We ar...</td>\n",
       "      <td>4250.0</td>\n",
       "    </tr>\n",
       "  </tbody>\n",
       "</table>\n",
       "</div>"
      ],
      "text/plain": [
       "                jobcategory                                   commitment  \\\n",
       "1    Regional Data Director                         Permanent, Full Time   \n",
       "2  Human Resource Executive                                    Full Time   \n",
       "3                HR Officer  Part Time, Permanent, Full Time, Flexi work   \n",
       "4           Finance Manager                                    Permanent   \n",
       "5          DotNet Developer                                     Contract   \n",
       "\n",
       "  location                    seniority                               company  \\\n",
       "1   119971        Manager, Professional                TBWA SINGAPORE PTE LTD   \n",
       "2   619336             Senior Executive                        EBUY PTE. LTD.   \n",
       "3   658077  Executive, Senior Executive                      TRAQUE PTE. LTD.   \n",
       "4   048621                      Manager       BURGER KING SINGAPORE PTE. LTD.   \n",
       "5   079903                 Professional  XPLORE INFOCOMZ SOLUTION (PTE. LTD.)   \n",
       "\n",
       "                                        requirements  \\\n",
       "1  RequirementsWhat skills does a Regional Data D...   \n",
       "2  Requirements ~ Analyse employee demographics a...   \n",
       "3  Requirements Working with hiring managers to d...   \n",
       "4  RequirementsResponsibilities  Responsible for ...   \n",
       "5  RequirementsQualifications & Experiences: Must...   \n",
       "\n",
       "                                     job_description  avgsalary  \n",
       "1  Roles & ResponsibilitiesWhat exactly does a Re...    15000.0  \n",
       "2  Roles & ResponsibilitiesThe Human Resource Exe...     3000.0  \n",
       "3  Roles & ResponsibilitiesAs part of a human res...     4500.0  \n",
       "4  Roles & ResponsibilitiesThe Finance Manager (F...     5250.0  \n",
       "5  Roles & ResponsibilitiesJob Description: We ar...     4250.0  "
      ]
     },
     "execution_count": 55,
     "metadata": {},
     "output_type": "execute_result"
    }
   ],
   "source": [
    "careers3.head()"
   ]
  },
  {
   "cell_type": "code",
   "execution_count": 82,
   "metadata": {},
   "outputs": [
    {
     "data": {
      "text/plain": [
       "(1353, 2500)"
      ]
     },
     "execution_count": 82,
     "metadata": {},
     "output_type": "execute_result"
    }
   ],
   "source": [
    "from sklearn.feature_extraction.text import CountVectorizer, TfidfTransformer, TfidfVectorizer \n",
    "from sklearn.feature_extraction.text import TfidfTransformer\n",
    "from sklearn.feature_extraction.text import TfidfVectorizer\n",
    "from sklearn.model_selection import learning_curve\n",
    "from sklearn.model_selection import train_test_split, cross_val_score, ShuffleSplit\n",
    "from sklearn.metrics import classification_report\n",
    "from sklearn.naive_bayes import MultinomialNB, BernoulliNB, GaussianNB\n",
    "from sklearn.pipeline import Pipeline\n",
    "# cvt      =  CountVectorizer(strip_accents='unicode',min_df=51)\n",
    "# X_all    =  cvt.fit_transform(careers3['requirements'])\n",
    "# columns  =  np.array(cvt.get_feature_names())          # ndarray (for indexing below)\n",
    "\n",
    "# # note this is a large sparse matrix. \n",
    "# #    - rows are tweets, columns are words \n",
    "# X_all\n",
    "cv = CountVectorizer(ngram_range=(1,2), max_features=2500, binary=True, stop_words='english')\n",
    "words = cv.fit_transform(careers3.job_description)\n",
    "words.shape"
   ]
  },
  {
   "cell_type": "code",
   "execution_count": 83,
   "metadata": {},
   "outputs": [],
   "source": [
    "words = pd.DataFrame(words.todense(), columns=cv.get_feature_names())"
   ]
  },
  {
   "cell_type": "code",
   "execution_count": 84,
   "metadata": {},
   "outputs": [
    {
     "data": {
      "text/html": [
       "<div>\n",
       "<style scoped>\n",
       "    .dataframe tbody tr th:only-of-type {\n",
       "        vertical-align: middle;\n",
       "    }\n",
       "\n",
       "    .dataframe tbody tr th {\n",
       "        vertical-align: top;\n",
       "    }\n",
       "\n",
       "    .dataframe thead th {\n",
       "        text-align: right;\n",
       "    }\n",
       "</style>\n",
       "<table border=\"1\" class=\"dataframe\">\n",
       "  <thead>\n",
       "    <tr style=\"text-align: right;\">\n",
       "      <th></th>\n",
       "      <th>000</th>\n",
       "      <th>10</th>\n",
       "      <th>12</th>\n",
       "      <th>1800</th>\n",
       "      <th>1800 2000</th>\n",
       "      <th>20</th>\n",
       "      <th>2000</th>\n",
       "      <th>2016</th>\n",
       "      <th>24</th>\n",
       "      <th>30</th>\n",
       "      <th>...</th>\n",
       "      <th>www</th>\n",
       "      <th>www google</th>\n",
       "      <th>year</th>\n",
       "      <th>yearly</th>\n",
       "      <th>yearly finalisation</th>\n",
       "      <th>years</th>\n",
       "      <th>years experience</th>\n",
       "      <th>yes</th>\n",
       "      <th>yes read</th>\n",
       "      <th>yield</th>\n",
       "    </tr>\n",
       "  </thead>\n",
       "  <tbody>\n",
       "    <tr>\n",
       "      <th>0</th>\n",
       "      <td>0</td>\n",
       "      <td>0</td>\n",
       "      <td>0</td>\n",
       "      <td>0</td>\n",
       "      <td>0</td>\n",
       "      <td>0</td>\n",
       "      <td>0</td>\n",
       "      <td>0</td>\n",
       "      <td>0</td>\n",
       "      <td>0</td>\n",
       "      <td>...</td>\n",
       "      <td>0</td>\n",
       "      <td>0</td>\n",
       "      <td>0</td>\n",
       "      <td>0</td>\n",
       "      <td>0</td>\n",
       "      <td>0</td>\n",
       "      <td>0</td>\n",
       "      <td>0</td>\n",
       "      <td>0</td>\n",
       "      <td>0</td>\n",
       "    </tr>\n",
       "    <tr>\n",
       "      <th>1</th>\n",
       "      <td>0</td>\n",
       "      <td>0</td>\n",
       "      <td>0</td>\n",
       "      <td>0</td>\n",
       "      <td>0</td>\n",
       "      <td>0</td>\n",
       "      <td>0</td>\n",
       "      <td>0</td>\n",
       "      <td>0</td>\n",
       "      <td>0</td>\n",
       "      <td>...</td>\n",
       "      <td>0</td>\n",
       "      <td>0</td>\n",
       "      <td>0</td>\n",
       "      <td>0</td>\n",
       "      <td>0</td>\n",
       "      <td>0</td>\n",
       "      <td>0</td>\n",
       "      <td>0</td>\n",
       "      <td>0</td>\n",
       "      <td>0</td>\n",
       "    </tr>\n",
       "    <tr>\n",
       "      <th>2</th>\n",
       "      <td>0</td>\n",
       "      <td>0</td>\n",
       "      <td>0</td>\n",
       "      <td>0</td>\n",
       "      <td>0</td>\n",
       "      <td>0</td>\n",
       "      <td>0</td>\n",
       "      <td>0</td>\n",
       "      <td>0</td>\n",
       "      <td>0</td>\n",
       "      <td>...</td>\n",
       "      <td>0</td>\n",
       "      <td>0</td>\n",
       "      <td>0</td>\n",
       "      <td>0</td>\n",
       "      <td>0</td>\n",
       "      <td>0</td>\n",
       "      <td>0</td>\n",
       "      <td>0</td>\n",
       "      <td>0</td>\n",
       "      <td>0</td>\n",
       "    </tr>\n",
       "    <tr>\n",
       "      <th>3</th>\n",
       "      <td>0</td>\n",
       "      <td>0</td>\n",
       "      <td>0</td>\n",
       "      <td>0</td>\n",
       "      <td>0</td>\n",
       "      <td>0</td>\n",
       "      <td>0</td>\n",
       "      <td>0</td>\n",
       "      <td>0</td>\n",
       "      <td>0</td>\n",
       "      <td>...</td>\n",
       "      <td>0</td>\n",
       "      <td>0</td>\n",
       "      <td>0</td>\n",
       "      <td>0</td>\n",
       "      <td>0</td>\n",
       "      <td>0</td>\n",
       "      <td>0</td>\n",
       "      <td>0</td>\n",
       "      <td>0</td>\n",
       "      <td>0</td>\n",
       "    </tr>\n",
       "    <tr>\n",
       "      <th>4</th>\n",
       "      <td>0</td>\n",
       "      <td>0</td>\n",
       "      <td>0</td>\n",
       "      <td>0</td>\n",
       "      <td>0</td>\n",
       "      <td>0</td>\n",
       "      <td>0</td>\n",
       "      <td>0</td>\n",
       "      <td>0</td>\n",
       "      <td>0</td>\n",
       "      <td>...</td>\n",
       "      <td>0</td>\n",
       "      <td>0</td>\n",
       "      <td>0</td>\n",
       "      <td>0</td>\n",
       "      <td>0</td>\n",
       "      <td>0</td>\n",
       "      <td>0</td>\n",
       "      <td>0</td>\n",
       "      <td>0</td>\n",
       "      <td>0</td>\n",
       "    </tr>\n",
       "  </tbody>\n",
       "</table>\n",
       "<p>5 rows × 2500 columns</p>\n",
       "</div>"
      ],
      "text/plain": [
       "   000  10  12  1800  1800 2000  20  2000  2016  24  30  ...    www  \\\n",
       "0    0   0   0     0          0   0     0     0   0   0  ...      0   \n",
       "1    0   0   0     0          0   0     0     0   0   0  ...      0   \n",
       "2    0   0   0     0          0   0     0     0   0   0  ...      0   \n",
       "3    0   0   0     0          0   0     0     0   0   0  ...      0   \n",
       "4    0   0   0     0          0   0     0     0   0   0  ...      0   \n",
       "\n",
       "   www google  year  yearly  yearly finalisation  years  years experience  \\\n",
       "0           0     0       0                    0      0                 0   \n",
       "1           0     0       0                    0      0                 0   \n",
       "2           0     0       0                    0      0                 0   \n",
       "3           0     0       0                    0      0                 0   \n",
       "4           0     0       0                    0      0                 0   \n",
       "\n",
       "   yes  yes read  yield  \n",
       "0    0         0      0  \n",
       "1    0         0      0  \n",
       "2    0         0      0  \n",
       "3    0         0      0  \n",
       "4    0         0      0  \n",
       "\n",
       "[5 rows x 2500 columns]"
      ]
     },
     "execution_count": 84,
     "metadata": {},
     "output_type": "execute_result"
    }
   ],
   "source": [
    "words.head()"
   ]
  },
  {
   "cell_type": "code",
   "execution_count": 85,
   "metadata": {},
   "outputs": [],
   "source": [
    "Xtrain, Xtest, ytrain, ytest = train_test_split(words.values, careers3.seniority.values, test_size=0.25)"
   ]
  },
  {
   "cell_type": "code",
   "execution_count": 86,
   "metadata": {},
   "outputs": [],
   "source": [
    "nb = BernoulliNB()"
   ]
  },
  {
   "cell_type": "code",
   "execution_count": 87,
   "metadata": {},
   "outputs": [
    {
     "data": {
      "text/plain": [
       "BernoulliNB(alpha=1.0, binarize=0.0, class_prior=None, fit_prior=True)"
      ]
     },
     "execution_count": 87,
     "metadata": {},
     "output_type": "execute_result"
    }
   ],
   "source": [
    "nb.fit(Xtrain, ytrain)"
   ]
  },
  {
   "cell_type": "code",
   "execution_count": 81,
   "metadata": {},
   "outputs": [
    {
     "name": "stdout",
     "output_type": "stream",
     "text": [
      "[0.31531532 0.33971292 0.31155779 0.29896907 0.29473684]\n",
      "0.31205838743810754\n"
     ]
    },
    {
     "name": "stderr",
     "output_type": "stream",
     "text": [
      "/Users/techno/anaconda3/lib/python3.7/site-packages/sklearn/model_selection/_split.py:605: Warning: The least populated class in y has only 1 members, which is too few. The minimum number of members in any class cannot be less than n_splits=5.\n",
      "  % (min_groups, self.n_splits)), Warning)\n"
     ]
    }
   ],
   "source": [
    "nb_scores = cross_val_score(BernoulliNB(), Xtrain, ytrain, cv=5)\n",
    "print(nb_scores)\n",
    "print(np.mean(nb_scores))"
   ]
  },
  {
   "cell_type": "markdown",
   "metadata": {},
   "source": [
    "All in all, the model is very bad in predicting job titles, this could be due to the fact that there are too many job titles. A suggestion for improvement would be too limit the number of categories of job titles. Maybe substituting words with the possible same meanings"
   ]
  },
  {
   "cell_type": "markdown",
   "metadata": {},
   "source": [
    "### BONUS PROBLEM\n",
    "\n",
    "Your boss would rather tell a client incorrectly that they would get a lower salary job than tell a client incorrectly that they would get a high salary job. Adjust one of your models to ease his mind, and explain what it is doing and any tradeoffs. Plot the ROC curve."
   ]
  },
  {
   "cell_type": "code",
   "execution_count": null,
   "metadata": {},
   "outputs": [],
   "source": []
  }
 ],
 "metadata": {
  "kernelspec": {
   "display_name": "Python 3",
   "language": "python",
   "name": "python3"
  },
  "language_info": {
   "codemirror_mode": {
    "name": "ipython",
    "version": 3
   },
   "file_extension": ".py",
   "mimetype": "text/x-python",
   "name": "python",
   "nbconvert_exporter": "python",
   "pygments_lexer": "ipython3",
   "version": "3.7.0"
  }
 },
 "nbformat": 4,
 "nbformat_minor": 2
}
